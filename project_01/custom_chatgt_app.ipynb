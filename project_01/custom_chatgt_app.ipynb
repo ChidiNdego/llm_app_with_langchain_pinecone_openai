{
 "cells": [
  {
   "cell_type": "code",
   "execution_count": 1,
   "metadata": {},
   "outputs": [
    {
     "data": {
      "text/plain": [
       "True"
      ]
     },
     "execution_count": 1,
     "metadata": {},
     "output_type": "execute_result"
    }
   ],
   "source": [
    "from dotenv import load_dotenv, find_dotenv\n",
    "load_dotenv(find_dotenv(), override=True)"
   ]
  },
  {
   "cell_type": "code",
   "execution_count": 3,
   "metadata": {},
   "outputs": [],
   "source": [
    "from langchain.chat_models import ChatOpenAI\n",
    "from langchain.schema import SystemMessage\n",
    "from langchain.chains import LLMChain\n",
    "from langchain.prompts import ChatPromptTemplate, HumanMessagePromptTemplate"
   ]
  },
  {
   "cell_type": "code",
   "execution_count": 4,
   "metadata": {},
   "outputs": [
    {
     "name": "stdout",
     "output_type": "stream",
     "text": [
      "the capital city of France. It is known for its beautiful architecture, artistic heritage, and vibrant culture. Paris is famous for iconic landmarks such as the Eiffel Tower, Louvre Museum, and Notre-Dame Cathedral. It is also renowned for its fashion, cuisine, and romantic atmosphere.\n",
      "--------------------------------------------------\n",
      "Lagos is a bustling metropolis located in Nigeria, West Africa. It is the largest city in Nigeria and one of the fastest-growing cities in the world. Known for its vibrant culture, diverse population, and lively atmosphere, Lagos is a major economic hub and commercial center. It is also home to a variety of landmarks, including the Lagos Island, National Museum, Fela Kuti's Afrika Shrine, and the Lekki Conservation Centre. Despite its challenges, Lagos is a city that never sleeps, offering a unique blend of modernity and tradition.\n",
      "--------------------------------------------------\n",
      "I'm sorry, but I am an AI chatbot and I don't have access to real-time data. Therefore, I cannot provide you with the current population of any specific location. However, if you let me know which country or city you are referring to, I can try to provide you with some general information or estimates based on historical data.\n",
      "--------------------------------------------------\n",
      "Goodbye!\n"
     ]
    }
   ],
   "source": [
    "llm = ChatOpenAI(model='gpt-3.5-turbo', temperature=1)\n",
    "\n",
    "prompt = ChatPromptTemplate(\n",
    "    input_variables=[\"content\"],\n",
    "    messages=[\n",
    "        SystemMessage(content='You are a chatbot having a conversation with a human'),\n",
    "        HumanMessagePromptTemplate.from_template('{content}')\n",
    "    ]\n",
    ")\n",
    "\n",
    "chain = LLMChain(\n",
    "    llm=llm,\n",
    "    prompt=prompt,\n",
    "    verbose=False\n",
    ")\n",
    "\n",
    "while True:\n",
    "    content = input('Your prompt: ')\n",
    "    if content in ['quit', 'exit', 'bye']:\n",
    "        print('Goodbye!')\n",
    "        break\n",
    "\n",
    "    response = chain.run({'content': content})\n",
    "    print(response)\n",
    "    print('-'*50)"
   ]
  },
  {
   "cell_type": "code",
   "execution_count": 5,
   "metadata": {},
   "outputs": [
    {
     "name": "stdout",
     "output_type": "stream",
     "text": [
      "Mi corazón.\n",
      "--------------------------------------------------\n",
      "Goodbye!\n"
     ]
    }
   ],
   "source": [
    "prompt = ChatPromptTemplate(\n",
    "    input_variables=[\"content\"],\n",
    "    messages=[\n",
    "        SystemMessage(content='Respond only in spanish'),\n",
    "        HumanMessagePromptTemplate.from_template('{content}')\n",
    "    ]\n",
    ")\n",
    "\n",
    "chain = LLMChain(\n",
    "    llm=llm,\n",
    "    prompt=prompt,\n",
    "    verbose=False\n",
    ")\n",
    "\n",
    "while True:\n",
    "    content = input('Your prompt: ')\n",
    "    if content in ['quit', 'exit', 'bye']:\n",
    "        print('Goodbye!')\n",
    "        break\n",
    "\n",
    "    response = chain.run({'content': content})\n",
    "    print(response)\n",
    "    print('-'*50)"
   ]
  },
  {
   "cell_type": "code",
   "execution_count": 6,
   "metadata": {},
   "outputs": [
    {
     "name": "stdout",
     "output_type": "stream",
     "text": [
      "\n",
      "\n",
      "\u001b[1m> Entering new LLMChain chain...\u001b[0m\n",
      "Prompt after formatting:\n",
      "\u001b[32;1m\u001b[1;3mSystem: You are a chatbot having a conversation with a human\n",
      "Human: Top 5 cities in Africa\u001b[0m\n",
      "\n",
      "\u001b[1m> Finished chain.\u001b[0m\n",
      "The top 5 cities in Africa, based on various factors such as population, economic significance, cultural significance, and tourist attractions, are:\n",
      "\n",
      "1. Cairo, Egypt: The capital city of Egypt, Cairo is the largest city in Africa and one of the most populous cities in the world. It is home to iconic landmarks like the Pyramids of Giza and the Sphinx, as well as several museums, markets, and vibrant neighborhoods.\n",
      "\n",
      "2. Johannesburg, South Africa: Known as \"Joburg\" or \"Jozi,\" Johannesburg is the largest city in South Africa and the economic hub of the country. It offers a mix of modernity and history, with attractions like the Apartheid Museum, Nelson Mandela Square, and vibrant street art scenes.\n",
      "\n",
      "3. Nairobi, Kenya: The capital city of Kenya, Nairobi is a bustling metropolis and the economic center of East Africa. It is known for its wildlife conservancies, including Nairobi National Park, as well as cultural attractions like the Karen Blixen Museum and the Maasai Market.\n",
      "\n",
      "4. Casablanca, Morocco: Casablanca is the largest city in Morocco and a major economic and business hub in North Africa. Known for its modern architecture, Casablanca is a vibrant city with a mix of Moroccan and European influences. The Hassan II Mosque, the second-largest mosque in the world, is a must-visit landmark.\n",
      "\n",
      "5. Cape Town, South Africa: Situated on the southwestern coast of South Africa, Cape Town is known for its stunning natural scenery, including the iconic Table Mountain. It offers diverse attractions such as beautiful beaches, the Victoria & Alfred Waterfront, Robben Island, and the Cape Winelands.\n",
      "\n",
      "Please note that this ranking is subjective, and there are many more wonderful cities across Africa that offer unique experiences and attractions.\n",
      "--------------------------------------------------\n",
      "Goodbye!\n"
     ]
    }
   ],
   "source": [
    "llm = ChatOpenAI(model='gpt-3.5-turbo', temperature=1)\n",
    "\n",
    "prompt = ChatPromptTemplate(\n",
    "    input_variables=[\"content\"],\n",
    "    messages=[\n",
    "        SystemMessage(content='You are a chatbot having a conversation with a human'),\n",
    "        HumanMessagePromptTemplate.from_template('{content}')\n",
    "    ]\n",
    ")\n",
    "\n",
    "chain = LLMChain(\n",
    "    llm=llm,\n",
    "    prompt=prompt,\n",
    "    verbose=True\n",
    ")\n",
    "\n",
    "while True:\n",
    "    content = input('Your prompt: ')\n",
    "    if content in ['quit', 'exit', 'bye']:\n",
    "        print('Goodbye!')\n",
    "        break\n",
    "\n",
    "    response = chain.run({'content': content})\n",
    "    print(response)\n",
    "    print('-'*50)"
   ]
  },
  {
   "cell_type": "markdown",
   "metadata": {},
   "source": [
    "#### Including a memory to our chatbot"
   ]
  },
  {
   "cell_type": "code",
   "execution_count": 7,
   "metadata": {},
   "outputs": [],
   "source": [
    "# Step 1\n",
    "from langchain.memory import ConversationBufferMemory\n",
    "from langchain.prompts import MessagesPlaceholder"
   ]
  },
  {
   "cell_type": "code",
   "execution_count": 8,
   "metadata": {},
   "outputs": [
    {
     "name": "stdout",
     "output_type": "stream",
     "text": [
      "\n",
      "\n",
      "\u001b[1m> Entering new LLMChain chain...\u001b[0m\n",
      "Prompt after formatting:\n",
      "\u001b[32;1m\u001b[1;3mSystem: You are a chatbot having a conversation with a human\n",
      "Human: Earth mass is ...\u001b[0m\n",
      "\n",
      "\u001b[1m> Finished chain.\u001b[0m\n",
      "Earth mass is a scientific unit used to measure the mass of an object in terms of Earth's mass. It represents the amount of matter in an object compared to Earth's mass, which is approximately 5.97 × 10^24 kilograms (or about 13.2 × 10^24 pounds). So, if an object has a mass of, for example, 1 Earth mass, it means it weighs approximately the same as Earth. It is commonly used in fields such as astronomy and planetary science to compare the masses of celestial bodies to that of our own planet.\n",
      "--------------------------------------------------\n",
      "\n",
      "\n",
      "\u001b[1m> Entering new LLMChain chain...\u001b[0m\n",
      "Prompt after formatting:\n",
      "\u001b[32;1m\u001b[1;3mSystem: You are a chatbot having a conversation with a human\n",
      "Human: Earth mass is ...\n",
      "AI: Earth mass is a scientific unit used to measure the mass of an object in terms of Earth's mass. It represents the amount of matter in an object compared to Earth's mass, which is approximately 5.97 × 10^24 kilograms (or about 13.2 × 10^24 pounds). So, if an object has a mass of, for example, 1 Earth mass, it means it weighs approximately the same as Earth. It is commonly used in fields such as astronomy and planetary science to compare the masses of celestial bodies to that of our own planet.\n",
      "Human: and its diameter is?\u001b[0m\n",
      "\n",
      "\u001b[1m> Finished chain.\u001b[0m\n",
      "The diameter of Earth is approximately 12,742 kilometers (7,918 miles). This measurement represents the distance across Earth, passing through its center, and is commonly used to describe the size of the planet. Earth's diameter is used as a reference point for comparing the sizes of other celestial bodies in our solar system and beyond.\n",
      "--------------------------------------------------\n",
      "Goodbye!\n"
     ]
    }
   ],
   "source": [
    "llm = ChatOpenAI(model='gpt-3.5-turbo', temperature=1)\n",
    "\n",
    "# Step 2\n",
    "memory = ConversationBufferMemory(\n",
    "    memory_key='chat_history', # chat memory stored in chat_history key\n",
    "    return_messages=True\n",
    ")\n",
    "\n",
    "# Step 3\n",
    "prompt = ChatPromptTemplate(\n",
    "    input_variables=[\"content\"],\n",
    "    messages=[\n",
    "        SystemMessage(content='You are a chatbot having a conversation with a human'),\n",
    "        MessagesPlaceholder(variable_name='chat_history'), # memory is stored here\n",
    "        HumanMessagePromptTemplate.from_template('{content}')\n",
    "    ]\n",
    ")\n",
    "\n",
    "# Step 4\n",
    "chain = LLMChain(\n",
    "    llm=llm,\n",
    "    prompt=prompt,\n",
    "    memory=memory,\n",
    "    verbose=True\n",
    ")\n",
    "\n",
    "while True:\n",
    "    content = input('Your prompt: ')\n",
    "    if content in ['quit', 'exit', 'bye']:\n",
    "        print('Goodbye!')\n",
    "        break\n",
    "\n",
    "    response = chain.run({'content': content})\n",
    "    print(response)\n",
    "    print('-'*50)"
   ]
  },
  {
   "cell_type": "code",
   "execution_count": 9,
   "metadata": {},
   "outputs": [],
   "source": [
    "from langchain.memory import FileChatMessageHistory"
   ]
  },
  {
   "cell_type": "code",
   "execution_count": 10,
   "metadata": {},
   "outputs": [
    {
     "name": "stdout",
     "output_type": "stream",
     "text": [
      "\n",
      "\n",
      "\u001b[1m> Entering new LLMChain chain...\u001b[0m\n",
      "Prompt after formatting:\n",
      "\u001b[32;1m\u001b[1;3mSystem: You are a chatbot having a conversation with a human\n",
      "Human: light speed in a vacuum\u001b[0m\n"
     ]
    },
    {
     "name": "stderr",
     "output_type": "stream",
     "text": [
      "Retrying langchain.chat_models.openai.ChatOpenAI.completion_with_retry.<locals>._completion_with_retry in 4.0 seconds as it raised APIConnectionError: Error communicating with OpenAI: ('Connection aborted.', ConnectionResetError(54, 'Connection reset by peer')).\n"
     ]
    },
    {
     "name": "stdout",
     "output_type": "stream",
     "text": [
      "\n",
      "\u001b[1m> Finished chain.\u001b[0m\n",
      "The speed of light in a vacuum is approximately 299,792,458 meters per second or about 186,282 miles per second. It is commonly denoted by the symbol \"c\" in physics equations and is considered to be a fundamental constant of nature. According to Einstein's theory of relativity, nothing with mass can travel faster than the speed of light.\n",
      "--------------------------------------------------\n",
      "\n",
      "\n",
      "\u001b[1m> Entering new LLMChain chain...\u001b[0m\n",
      "Prompt after formatting:\n",
      "\u001b[32;1m\u001b[1;3mSystem: You are a chatbot having a conversation with a human\n",
      "Human: light speed in a vacuum\n",
      "AI: The speed of light in a vacuum is approximately 299,792,458 meters per second or about 186,282 miles per second. It is commonly denoted by the symbol \"c\" in physics equations and is considered to be a fundamental constant of nature. According to Einstein's theory of relativity, nothing with mass can travel faster than the speed of light.\n",
      "Human: what bout that of water?\u001b[0m\n",
      "\n",
      "\u001b[1m> Finished chain.\u001b[0m\n",
      "The speed of light in a medium, such as water, is slower than the speed of light in a vacuum. In water, light travels at approximately 225,000 kilometers per second or about 139,770 miles per second. The exact value can vary depending on various factors, such as the temperature and composition of the water. This difference in speed is due to the interaction of light with the particles and molecules present in the medium, which affects its propagation.\n",
      "--------------------------------------------------\n",
      "Goodbye!\n"
     ]
    }
   ],
   "source": [
    "llm = ChatOpenAI(model='gpt-3.5-turbo', temperature=1)\n",
    "\n",
    "history = FileChatMessageHistory('chat_history.json')\n",
    "\n",
    "# Step 2\n",
    "memory = ConversationBufferMemory(\n",
    "    memory_key='chat_history', # chat memory stored in chat_history key\n",
    "    chat_memory=history,\n",
    "    return_messages=True\n",
    ")\n",
    "\n",
    "# Step 3\n",
    "prompt = ChatPromptTemplate(\n",
    "    input_variables=[\"content\"],\n",
    "    messages=[\n",
    "        SystemMessage(content='You are a chatbot having a conversation with a human'),\n",
    "        MessagesPlaceholder(variable_name='chat_history'), # memory is stored here\n",
    "        HumanMessagePromptTemplate.from_template('{content}')\n",
    "    ]\n",
    ")\n",
    "\n",
    "# Step 4\n",
    "chain = LLMChain(\n",
    "    llm=llm,\n",
    "    prompt=prompt,\n",
    "    memory=memory,\n",
    "    verbose=True\n",
    ")\n",
    "\n",
    "while True:\n",
    "    content = input('Your prompt: ')\n",
    "    if content in ['quit', 'exit', 'bye']:\n",
    "        print('Goodbye!')\n",
    "        break\n",
    "\n",
    "    response = chain.run({'content': content})\n",
    "    print(response)\n",
    "    print('-'*50)"
   ]
  },
  {
   "cell_type": "code",
   "execution_count": null,
   "metadata": {},
   "outputs": [],
   "source": []
  }
 ],
 "metadata": {
  "kernelspec": {
   "display_name": "Python 3",
   "language": "python",
   "name": "python3"
  },
  "language_info": {
   "codemirror_mode": {
    "name": "ipython",
    "version": 3
   },
   "file_extension": ".py",
   "mimetype": "text/x-python",
   "name": "python",
   "nbconvert_exporter": "python",
   "pygments_lexer": "ipython3",
   "version": "3.9.6"
  }
 },
 "nbformat": 4,
 "nbformat_minor": 2
}
